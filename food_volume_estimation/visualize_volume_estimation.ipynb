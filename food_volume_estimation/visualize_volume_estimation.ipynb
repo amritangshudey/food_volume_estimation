{
 "cells": [
  {
   "cell_type": "markdown",
   "metadata": {},
   "source": [
    "# Single-image food volume estimation\n",
    "Using a  monocular depth estimation network and a segmentation network, we will estimate the volume of the food displayed in the input image."
   ]
  },
  {
   "cell_type": "code",
   "execution_count": 1,
   "metadata": {
    "scrolled": false
   },
   "outputs": [
    {
     "name": "stderr",
     "output_type": "stream",
     "text": [
      "Using TensorFlow backend.\n",
      "/home/amrit/anaconda3/envs/volume-estimation/lib/python3.6/site-packages/fuzzywuzzy/fuzz.py:11: UserWarning: Using slow pure-python SequenceMatcher. Install python-Levenshtein to remove this warning\n",
      "  warnings.warn('Using slow pure-python SequenceMatcher. Install python-Levenshtein to remove this warning')\n"
     ]
    }
   ],
   "source": [
    "import sys\n",
    "import json\n",
    "from keras.models import Model, model_from_json\n",
    "from volume_estimator import VolumeEstimator\n",
    "from depth_estimation.custom_modules import *\n",
    "from food_segmentation.food_segmentator import FoodSegmentator\n",
    "import matplotlib.pyplot as plt\n",
    "from pyntcloud import PyntCloud\n",
    "\n",
    "# Paths to model archiecture/weights\n",
    "depth_model_architecture = '../models/fine_tune_food_videos/monovideo_fine_tune_food_videos.json'\n",
    "depth_model_weights = '../models/fine_tune_food_videos/monovideo_fine_tune_food_videos.h5'\n",
    "segmentation_model_weights = '../models/segmentation/mask_rcnn_food_segmentation.h5'\n",
    "classification_model_weights = '../models/classification/simple_model_weights.pth'"
   ]
  },
  {
   "cell_type": "code",
   "execution_count": 2,
   "metadata": {},
   "outputs": [
    {
     "name": "stdout",
     "output_type": "stream",
     "text": [
      "[*] VolumeEstimator not initialized.\n",
      "WARNING:tensorflow:From /home/amrit/anaconda3/envs/volume-estimation/lib/python3.6/site-packages/tensorflow/python/framework/op_def_library.py:263: colocate_with (from tensorflow.python.framework.ops) is deprecated and will be removed in a future version.\n",
      "Instructions for updating:\n",
      "Colocations handled automatically by placer.\n",
      "WARNING:tensorflow:From /home/amrit/projects/food_volume_estimation/food_volume_estimation/depth_estimation/project.py:199: calling squeeze (from tensorflow.python.ops.array_ops) with squeeze_dims is deprecated and will be removed in a future version.\n",
      "Instructions for updating:\n",
      "Use the `axis` argument instead\n",
      "WARNING:tensorflow:From /home/amrit/projects/food_volume_estimation/food_volume_estimation/depth_estimation/project.py:236: to_float (from tensorflow.python.ops.math_ops) is deprecated and will be removed in a future version.\n",
      "Instructions for updating:\n",
      "Use tf.cast instead.\n",
      "[*] Loaded depth estimation model.\n",
      "[*] Loading segmentation model weights ../models/segmentation/mask_rcnn_food_segmentation.h5\n"
     ]
    }
   ],
   "source": [
    "# Create estimator object and intialize\n",
    "estimator = VolumeEstimator(arg_init=False)\n",
    "with open(depth_model_architecture, 'r') as read_file:\n",
    "    custom_losses = Losses()\n",
    "    objs = {'ProjectionLayer': ProjectionLayer,\n",
    "            'ReflectionPadding2D': ReflectionPadding2D,\n",
    "            'InverseDepthNormalization': InverseDepthNormalization,\n",
    "            'AugmentationLayer': AugmentationLayer,\n",
    "            'compute_source_loss': custom_losses.compute_source_loss}\n",
    "    model_architecture_json = json.load(read_file)\n",
    "    estimator.monovideo = model_from_json(model_architecture_json, custom_objects=objs)\n",
    "estimator._VolumeEstimator__set_weights_trainable(estimator.monovideo, False)\n",
    "estimator.monovideo.load_weights(depth_model_weights)\n",
    "estimator.model_input_shape = estimator.monovideo.inputs[0].shape.as_list()[1:]\n",
    "depth_net = estimator.monovideo.get_layer('depth_net')\n",
    "estimator.depth_model = Model(inputs=depth_net.inputs, outputs=depth_net.outputs, name='depth_model')\n",
    "print('[*] Loaded depth estimation model.')\n",
    "\n",
    "# Depth model configuration\n",
    "MIN_DEPTH = 0.01\n",
    "MAX_DEPTH = 10\n",
    "estimator.min_disp = 1 / MAX_DEPTH\n",
    "estimator.max_disp = 1 / MIN_DEPTH\n",
    "estimator.gt_depth_scale = 0.35 # Ground truth expected median depth\n",
    "\n",
    "# Create segmentator object\n",
    "estimator.segmentator = FoodSegmentator(segmentation_model_weights)\n",
    "\n",
    "# Set plate adjustment relaxation parameter\n",
    "estimator.relax_param = 0.01"
   ]
  },
  {
   "cell_type": "code",
   "execution_count": 1,
   "metadata": {
    "scrolled": false
   },
   "outputs": [
    {
     "ename": "NameError",
     "evalue": "name 'estimator' is not defined",
     "output_type": "error",
     "traceback": [
      "\u001b[0;31m---------------------------------------------------------------------------\u001b[0m",
      "\u001b[0;31mNameError\u001b[0m                                 Traceback (most recent call last)",
      "\u001b[0;32m<ipython-input-1-daa37d0b25f9>\u001b[0m in \u001b[0;36m<module>\u001b[0;34m\u001b[0m\n\u001b[1;32m      4\u001b[0m \u001b[0minput_image\u001b[0m \u001b[0;34m=\u001b[0m \u001b[0;34m'../assets/readme_assets/examples/chicken_test_img.jpeg'\u001b[0m\u001b[0;34m\u001b[0m\u001b[0;34m\u001b[0m\u001b[0m\n\u001b[1;32m      5\u001b[0m \u001b[0mplate_diameter\u001b[0m \u001b[0;34m=\u001b[0m \u001b[0;36m0.35\u001b[0m \u001b[0;31m# Set as 0 to ignore plate detection and scaling\u001b[0m\u001b[0;34m\u001b[0m\u001b[0;34m\u001b[0m\u001b[0m\n\u001b[0;32m----> 6\u001b[0;31m outputs_list = estimator.estimate_volume(input_image, fov=70, plate_diameter_prior=plate_diameter, \n\u001b[0m\u001b[1;32m      7\u001b[0m                                          plot_results=True)\n\u001b[1;32m      8\u001b[0m \u001b[0;34m\u001b[0m\u001b[0m\n",
      "\u001b[0;31mNameError\u001b[0m: name 'estimator' is not defined"
     ]
    }
   ],
   "source": [
    "%matplotlib notebook\n",
    "\n",
    "# Estimate volumes in input image\n",
    "input_image = '../assets/readme_assets/examples/chicken_test_img.jpeg'\n",
    "plate_diameter = 0.35 # Set as 0 to ignore plate detection and scaling\n",
    "outputs_list = estimator.estimate_volume(input_image, fov=70, plate_diameter_prior=plate_diameter, \n",
    "                                         plot_results=True)\n",
    "\n",
    "# Plot results for all detected food objects\n",
    "for outputs in outputs_list:\n",
    "    (estimated_volume, object_points_df, non_object_points_df, plane_points_df, object_points_transformed_df, \n",
    "        plane_points_transformed_df, simplices) = outputs\n",
    "    fig = plt.gcf()\n",
    "    fig.set_size_inches(6.5, 5.3)\n",
    "    \n",
    "    # Flip x and z coordinates to match point cloud with plotting axes\n",
    "    object_points_df.values[:,0] *= -1\n",
    "    object_points_df.values[:,2] *= -1\n",
    "    non_object_points_df.values[:,0] *= -1\n",
    "    non_object_points_df.values[:,2] *= -1\n",
    "    plane_points_df.values[:,0] *= -1\n",
    "    plane_points_df.values[:,2] *= -1\n",
    "    \n",
    "    # Create point cloud objects and plot\n",
    "    object_pc = PyntCloud(object_points_df)\n",
    "    non_object_pc = PyntCloud(non_object_points_df)\n",
    "    plane_pc = PyntCloud(plane_points_df)\n",
    "    scene = object_pc.plot(initial_point_size=0.005, return_scene=True)\n",
    "    non_object_pc.plot(initial_point_size=0.005, scene=scene)\n",
    "    plane_pc.plot(initial_point_size=0.001, use_as_color='z', cmap='cool', scene=scene)\n",
    "    \n",
    "    # Create transformed point clouds and plot\n",
    "    plane_transformed_pc = PyntCloud(plane_points_transformed_df)\n",
    "    object_transformed_pc = PyntCloud(object_points_transformed_df)\n",
    "    scene = object_transformed_pc.plot(initial_point_size=0.005, return_scene=True)\n",
    "    plane_transformed_pc.plot(initial_point_size=0.005, use_as_color='x', cmap='cool', scene=scene)\n",
    "\n",
    "    # Plot x-y plane triangulation of food object\n",
    "    volume_points = object_points_transformed_df.values[object_points_transformed_df.values[:,2] > 0]\n",
    "    plt.figure()\n",
    "    plt.triplot(volume_points[:,0], volume_points[:,1], simplices)\n",
    "    plt.plot(volume_points[:,0], volume_points[:,1], 'o', markersize=1)\n",
    "    plt.gca().set_aspect('equal', adjustable='box')\n",
    "    plt.title('Food X-Y triangulation')\n",
    "\n",
    "    plt.show()"
   ]
  },
  {
   "cell_type": "code",
   "execution_count": null,
   "metadata": {},
   "outputs": [],
   "source": []
  },
  {
   "cell_type": "code",
   "execution_count": null,
   "metadata": {},
   "outputs": [],
   "source": []
  }
 ],
 "metadata": {
  "kernelspec": {
   "display_name": "Python 3",
   "language": "python",
   "name": "python3"
  },
  "language_info": {
   "codemirror_mode": {
    "name": "ipython",
    "version": 3
   },
   "file_extension": ".py",
   "mimetype": "text/x-python",
   "name": "python",
   "nbconvert_exporter": "python",
   "pygments_lexer": "ipython3",
   "version": "3.6.13"
  }
 },
 "nbformat": 4,
 "nbformat_minor": 2
}
